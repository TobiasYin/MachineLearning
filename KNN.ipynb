{
 "cells": [
  {
   "cell_type": "markdown",
   "metadata": {},
   "source": [
    "# KNN"
   ]
  },
  {
   "cell_type": "code",
   "execution_count": 1,
   "metadata": {},
   "outputs": [],
   "source": [
    "import numpy as np\n",
    "import matplotlib.pyplot as plt\n",
    "import math"
   ]
  },
  {
   "cell_type": "code",
   "execution_count": 2,
   "metadata": {},
   "outputs": [],
   "source": [
    "import numpy as np\n",
    "from math import sqrt\n",
    "from collections import Counter\n",
    "\n",
    "def KNN_classify(k:int,X_train:np.array,y_train:np.array,x:np.array):\n",
    "    assert 1<=k <=X_train.shape[0]\n",
    "    assert X_train.shape[0] == y_train.shape[0]\n",
    "    assert X_train.shape[1] == x.shape[0]\n",
    "    distances = [sqrt(np.sum((x_train - x)**2)) for x_train in X_train]\n",
    "    res = np.argsort(distances)\n",
    "    topK_y = [y_train[i] for i in res[:k]]\n",
    "    votes = Counter(topK_y)\n",
    "    return votes.most_common(1)[0][0]"
   ]
  },
  {
   "cell_type": "code",
   "execution_count": 3,
   "metadata": {},
   "outputs": [],
   "source": [
    "import numpy as np\n",
    "from math import sqrt\n",
    "from collections import Counter\n",
    "\n",
    "\n",
    "class KNNClassifier:\n",
    "    def __init__(self, k: int):\n",
    "        assert k >= 1\n",
    "        self.k = k\n",
    "        self.train_x = None\n",
    "        self.train_y = None\n",
    "\n",
    "    def fit(self, X_train: np.array, y_train: np.array):\n",
    "        assert self.k <= X_train.shape[0]\n",
    "        assert X_train.shape[0] == y_train.shape[0]\n",
    "        self.train_x = X_train\n",
    "        self.train_y = y_train\n",
    "\n",
    "    def __knn_classify(self, x: np.array) -> int:\n",
    "        distances = [sqrt(np.sum((x_train - x) ** 2)) for x_train in self.train_x]\n",
    "        res = np.argsort(distances)\n",
    "        topK_y = [self.train_y[i] for i in res[:self.k]]\n",
    "        votes = Counter(topK_y)\n",
    "        return votes.most_common(1)[0][0]\n",
    "\n",
    "    def predict(self, x: np.array) -> np.array:\n",
    "        assert self.train_x is not None and self.train_y is not None\n",
    "        assert self.train_x.shape[1] == x.shape[0] or self.train_x.shape[1] == x.shape[1]\n",
    "        if len(x.shape) == 2:\n",
    "            res = np.array([self.__knn_classify(i) for i in x])\n",
    "        else:\n",
    "            res = np.array([self.__knn_classify(x)])\n",
    "        return res\n"
   ]
  },
  {
   "cell_type": "code",
   "execution_count": 26,
   "metadata": {},
   "outputs": [],
   "source": [
    "max_data, size = 10, 10\n",
    "raw_data_X = [np.random.random(2)*max_data for _ in range(size)]\n",
    "raw_data_y = []\n",
    "for i in raw_data_X:\n",
    "    if sqrt(i[0]**2+i[1]**2) < max_data*0.75:\n",
    "        raw_data_y.append(0)\n",
    "    else:\n",
    "        raw_data_y.append(1)\n",
    "train_X = np.array(raw_data_X)\n",
    "train_y = np.array(raw_data_y)"
   ]
  },
  {
   "cell_type": "code",
   "execution_count": 27,
   "metadata": {},
   "outputs": [
    {
     "data": {
      "image/png": "[encoded data removed]",
      "text/plain": [
       "<Figure size 432x288 with 1 Axes>"
      ]
     },
     "metadata": {
      "needs_background": "light"
     },
     "output_type": "display_data"
    }
   ],
   "source": [
    "plt.scatter(train_X[train_y == 0,0],train_X[train_y == 0,1])\n",
    "plt.scatter(train_X[train_y == 1,0],train_X[train_y == 1,1])\n",
    "plt.show()"
   ]
  },
  {
   "cell_type": "code",
   "execution_count": 21,
   "metadata": {},
   "outputs": [
    {
     "data": {
      "image/png": "[encoded data removed]",
      "text/plain": [
       "<Figure size 432x288 with 1 Axes>"
      ]
     },
     "metadata": {
      "needs_background": "light"
     },
     "output_type": "display_data"
    },
    {
     "data": {
      "text/plain": [
       "0"
      ]
     },
     "execution_count": 21,
     "metadata": {},
     "output_type": "execute_result"
    }
   ],
   "source": [
    "test_x = np.random.random(2) * max_data\n",
    "plt.scatter(train_X[train_y == 0,0], train_X[train_y == 0,1])\n",
    "plt.scatter(train_X[train_y == 1,0], train_X[train_y == 1,1], color = \"g\")\n",
    "plt.scatter(test_x[0], test_x[1],color = \"r\")\n",
    "plt.show()\n",
    "predict = KNN_classify(6, train_X, train_y, test_x)\n",
    "predict"
   ]
  },
  {
   "cell_type": "code",
   "execution_count": 7,
   "metadata": {},
   "outputs": [],
   "source": [
    "from sklearn.neighbors import KNeighborsClassifier"
   ]
  },
  {
   "cell_type": "code",
   "execution_count": 8,
   "metadata": {},
   "outputs": [],
   "source": [
    "KNN_classifier = KNeighborsClassifier(n_neighbors= 6 )"
   ]
  },
  {
   "cell_type": "code",
   "execution_count": 9,
   "metadata": {},
   "outputs": [
    {
     "data": {
      "text/plain": [
       "KNeighborsClassifier(algorithm='auto', leaf_size=30, metric='minkowski',\n",
       "           metric_params=None, n_jobs=None, n_neighbors=6, p=2,\n",
       "           weights='uniform')"
      ]
     },
     "execution_count": 9,
     "metadata": {},
     "output_type": "execute_result"
    }
   ],
   "source": [
    "KNN_classifier.fit(train_X,train_y)"
   ]
  },
  {
   "cell_type": "code",
   "execution_count": 10,
   "metadata": {},
   "outputs": [
    {
     "data": {
      "text/plain": [
       "array([1])"
      ]
     },
     "execution_count": 10,
     "metadata": {},
     "output_type": "execute_result"
    }
   ],
   "source": [
    "KNN_classifier.predict(test_x.reshape((1,-1)))"
   ]
  },
  {
   "cell_type": "code",
   "execution_count": 11,
   "metadata": {},
   "outputs": [],
   "source": [
    "classifier = KNNClassifier(6)"
   ]
  },
  {
   "cell_type": "code",
   "execution_count": 12,
   "metadata": {},
   "outputs": [],
   "source": [
    "classifier.fit(train_X,train_y)"
   ]
  },
  {
   "cell_type": "code",
   "execution_count": 13,
   "metadata": {},
   "outputs": [
    {
     "data": {
      "text/plain": [
       "array([1])"
      ]
     },
     "execution_count": 13,
     "metadata": {},
     "output_type": "execute_result"
    }
   ],
   "source": [
    "classifier.predict(test_x)"
   ]
  },
  {
   "cell_type": "code",
   "execution_count": 31,
   "metadata": {},
   "outputs": [],
   "source": [
    "allres = {}"
   ]
  },
  {
   "cell_type": "code",
   "execution_count": 69,
   "metadata": {},
   "outputs": [
    {
     "name": "stdout",
     "output_type": "stream",
     "text": [
      "0.9923\n"
     ]
    }
   ],
   "source": [
    "counter = 0\n",
    "n = 10000\n",
    "classifier = KNNClassifier(6)\n",
    "classifier.fit(train_X,train_y)\n",
    "for i in range(n):\n",
    "    test_x = np.random.random(2) * max_data\n",
    "    if sqrt(test_x[0]**2+test_x[1]**2) < max_data*0.75:\n",
    "        res = 0\n",
    "    else:\n",
    "        res = 1\n",
    "    Knn_res = classifier.predict(test_x)\n",
    "    if res == Knn_res:\n",
    "        counter+=1\n",
    "r = counter / n\n",
    "print(r)\n",
    "if not allres.get(size) or allres[size] < r:\n",
    "    allres[size] = r"
   ]
  },
  {
   "cell_type": "code",
   "execution_count": 38,
   "metadata": {},
   "outputs": [
    {
     "name": "stdout",
     "output_type": "stream",
     "text": [
      "size: 20, ratio: 0.941\n",
      "size: 40, ratio: 0.974\n",
      "size: 60, ratio: 0.957\n",
      "size: 80, ratio: 0.98\n",
      "size: 100, ratio: 0.975\n",
      "size: 120, ratio: 0.987\n",
      "size: 140, ratio: 0.986\n",
      "size: 160, ratio: 0.966\n",
      "size: 180, ratio: 0.981\n",
      "size: 200, ratio: 0.987\n",
      "size: 220, ratio: 0.985\n",
      "size: 240, ratio: 0.992\n",
      "size: 260, ratio: 0.987\n",
      "size: 280, ratio: 0.99\n",
      "size: 300, ratio: 0.986\n",
      "size: 320, ratio: 0.987\n",
      "size: 340, ratio: 0.987\n",
      "size: 360, ratio: 0.989\n",
      "size: 380, ratio: 0.983\n",
      "size: 400, ratio: 0.995\n",
      "size: 420, ratio: 0.988\n",
      "size: 440, ratio: 0.992\n",
      "size: 460, ratio: 0.991\n",
      "size: 480, ratio: 0.987\n",
      "size: 500, ratio: 0.986\n",
      "size: 520, ratio: 0.993\n",
      "size: 540, ratio: 0.996\n",
      "size: 560, ratio: 0.989\n",
      "size: 580, ratio: 0.991\n",
      "size: 600, ratio: 0.99\n",
      "size: 620, ratio: 0.991\n",
      "size: 640, ratio: 0.992\n",
      "size: 660, ratio: 0.985\n",
      "size: 680, ratio: 0.988\n",
      "size: 700, ratio: 0.994\n",
      "size: 720, ratio: 0.996\n",
      "size: 740, ratio: 0.986\n",
      "size: 760, ratio: 0.987\n",
      "size: 780, ratio: 0.993\n",
      "size: 800, ratio: 0.991\n",
      "size: 820, ratio: 0.993\n",
      "size: 840, ratio: 0.991\n",
      "size: 860, ratio: 0.994\n",
      "size: 880, ratio: 0.994\n",
      "size: 900, ratio: 0.988\n",
      "size: 920, ratio: 0.992\n",
      "size: 940, ratio: 0.992\n",
      "size: 960, ratio: 0.986\n",
      "size: 980, ratio: 0.993\n"
     ]
    }
   ],
   "source": [
    "for x in range(10,1000,5):\n",
    "    max_data, size = 10, x\n",
    "    raw_data_X = [np.random.random(2)*max_data for _ in range(size)]\n",
    "    raw_data_y = []\n",
    "    for i in raw_data_X:\n",
    "        if sqrt(i[0]**2+i[1]**2) < max_data*0.75:\n",
    "            raw_data_y.append(0)\n",
    "        else:\n",
    "            raw_data_y.append(1)\n",
    "    train_X = np.array(raw_data_X)\n",
    "    train_y = np.array(raw_data_y)\n",
    "    n = 1000\n",
    "    classifier = KNNClassifier(6)\n",
    "    classifier.fit(train_X,train_y)\n",
    "    for j in range(5):\n",
    "        counter = 0\n",
    "        for i in range(n):\n",
    "            test_x = np.random.random(2) * max_data\n",
    "            if sqrt(test_x[0]**2+test_x[1]**2) < max_data*0.75:\n",
    "                res = 0\n",
    "            else:\n",
    "                res = 1\n",
    "            Knn_res = classifier.predict(test_x)\n",
    "            if res == Knn_res:\n",
    "                counter+=1\n",
    "        r = counter / n\n",
    "        if not allres.get(size) or allres[size] < r:\n",
    "            allres[size] = r\n",
    "    if size % 20 == 0:\n",
    "        print(\"size: \"+ str(size) +\", ratio: \" + str(allres[size]))"
   ]
  },
  {
   "cell_type": "code",
   "execution_count": 62,
   "metadata": {},
   "outputs": [
    {
     "data": {
      "image/png": "[encoded data removed]",
      "text/plain": [
       "<Figure size 432x288 with 1 Axes>"
      ]
     },
     "metadata": {
      "needs_background": "light"
     },
     "output_type": "display_data"
    }
   ],
   "source": [
    "keys = list(allres.keys())\n",
    "keys.sort()\n",
    "res = np.array([[i,allres[i]] for i in keys])\n",
    "plt.plot(res[:,0],res[:,1])\n",
    "plt.show()"
   ]
  },
  {
   "cell_type": "code",
   "execution_count": 66,
   "metadata": {},
   "outputs": [],
   "source": [
    "import pickle\n",
    "with open(\"KNN_RES_LIST\",\"wb\") as f:\n",
    "    pickle.dump(res, f)"
   ]
  },
  {
   "cell_type": "code",
   "execution_count": null,
   "metadata": {},
   "outputs": [],
   "source": [
    "with open(\"KNN_RES_DICT\",\"wb\") as f:\n",
    "    pickle.dump(allres, f)"
   ]
  },
  {
   "cell_type": "code",
   "execution_count": 173,
   "metadata": {},
   "outputs": [],
   "source": [
    "from sklearn import datasets\n",
    "iris = datasets.load_iris()\n",
    "X = np.hstack([iris.data,iris.target.reshape(-1,1)])\n",
    "np.random.shuffle(X)\n",
    "X,y = np.hsplit(X,[-1])\n",
    "y = y.reshape(-1)\n",
    "test_ratio = 0.2\n",
    "size = len(X) - int(test_ratio * len(X))\n",
    "X,test_x = np.vsplit(X,[size])\n",
    "y,test_y = y[:size],y[size:]"
   ]
  },
  {
   "cell_type": "code",
   "execution_count": 174,
   "metadata": {},
   "outputs": [
    {
     "data": {
      "text/plain": [
       "KNeighborsClassifier(algorithm='auto', leaf_size=30, metric='minkowski',\n",
       "           metric_params=None, n_jobs=None, n_neighbors=6, p=2,\n",
       "           weights='uniform')"
      ]
     },
     "execution_count": 174,
     "metadata": {},
     "output_type": "execute_result"
    }
   ],
   "source": [
    "Knn = KNeighborsClassifier(6)\n",
    "Knn.fit(X,y)"
   ]
  },
  {
   "cell_type": "code",
   "execution_count": 175,
   "metadata": {},
   "outputs": [
    {
     "data": {
      "text/plain": [
       "0.9666666666666667"
      ]
     },
     "execution_count": 175,
     "metadata": {},
     "output_type": "execute_result"
    }
   ],
   "source": [
    "res = Knn.predict(test_x)\n",
    "np.sum(res == test_y)/len(res)"
   ]
  },
  {
   "cell_type": "code",
   "execution_count": 185,
   "metadata": {},
   "outputs": [
    {
     "name": "stdout",
     "output_type": "stream",
     "text": [
      "4.72 ms ± 231 µs per loop (mean ± std. dev. of 7 runs, 100 loops each)\n"
     ]
    }
   ],
   "source": [
    "%%timeit\n",
    "from sklearn import datasets\n",
    "iris = datasets.load_iris()\n",
    "X = np.hstack([iris.data,iris.target.reshape(-1,1)])\n",
    "np.random.shuffle(X)\n",
    "X,y = np.hsplit(X,[-1])\n",
    "y = y.reshape(-1)\n",
    "test_ratio = 0.2\n",
    "size = len(X) - int(test_ratio * len(X))\n",
    "X,test_x = np.vsplit(X,[size])\n",
    "y,test_y = y[:size],y[size:]\n",
    "Knn = KNeighborsClassifier(6)\n",
    "Knn.fit(X,y)\n",
    "res = Knn.predict(test_x)\n",
    "np.sum(res == test_y)/len(res)"
   ]
  },
  {
   "cell_type": "code",
   "execution_count": 183,
   "metadata": {},
   "outputs": [
    {
     "name": "stdout",
     "output_type": "stream",
     "text": [
      "4.93 ms ± 380 µs per loop (mean ± std. dev. of 7 runs, 100 loops each)\n"
     ]
    }
   ],
   "source": [
    "%%timeit\n",
    "from sklearn import datasets\n",
    "iris = datasets.load_iris()\n",
    "X = iris.data\n",
    "y = iris.target\n",
    "shuffule_indexes = np.random.permutation(len(X))\n",
    "test_ratio = 0.2\n",
    "size = len(X)  - int(test_ratio * len(X))\n",
    "train_indexes, test_indexes = shuffule_indexes[:size],shuffule_indexes[size:]\n",
    "Knn = KNeighborsClassifier(6)\n",
    "Knn.fit(X[train_indexes], y[train_indexes])\n",
    "res = Knn.predict(X[test_indexes])\n",
    "np.sum(res == y[test_indexes]) / len(res)"
   ]
  },
  {
   "cell_type": "code",
   "execution_count": 243,
   "metadata": {},
   "outputs": [
    {
     "data": {
      "text/plain": [
       "0.9333333333333333"
      ]
     },
     "execution_count": 243,
     "metadata": {},
     "output_type": "execute_result"
    }
   ],
   "source": [
    "from sklearn import datasets\n",
    "iris = datasets.load_iris()\n",
    "X = iris.data\n",
    "y = iris.target\n",
    "shuffule_indexes = np.random.permutation(len(X))\n",
    "test_ratio = 0.2\n",
    "size = len(X)  - int(test_ratio * len(X))\n",
    "train_indexes, test_indexes = shuffule_indexes[:size],shuffule_indexes[size:]\n",
    "Knn = KNNClassifier(6)\n",
    "Knn.fit(X[train_indexes], y[train_indexes])\n",
    "res = Knn.predict(X[test_indexes])\n",
    "np.sum(res == y[test_indexes]) / len(res)"
   ]
  },
  {
   "cell_type": "code",
   "execution_count": 195,
   "metadata": {},
   "outputs": [],
   "source": [
    "def train_test_split(X: np.ndarray, y: np.ndarray, ratio=0.2, seed=None):\n",
    "    assert X.shape[0] == y.shape[0]\n",
    "    assert 0.0 <= ratio <= 1.0\n",
    "    if seed:\n",
    "        np.random.seed(seed)\n",
    "    shuffle_indexes = np.random.permutation(len(X))\n",
    "    size = len(X) - int(ratio * len(X))\n",
    "    train_indexes, test_indexes = shuffle_indexes[:size], shuffle_indexes[size:]\n",
    "    return X[train_indexes], y[train_indexes], X[test_indexes], y[test_indexes]"
   ]
  }
 ],
 "metadata": {
  "kernelspec": {
   "display_name": "Python 3",
   "language": "python",
   "name": "python3"
  },
  "language_info": {
   "codemirror_mode": {
    "name": "ipython",
    "version": 3
   },
   "file_extension": ".py",
   "mimetype": "text/x-python",
   "name": "python",
   "nbconvert_exporter": "python",
   "pygments_lexer": "ipython3",
   "version": "3.7.1"
  }
 },
 "nbformat": 4,
 "nbformat_minor": 2
}
