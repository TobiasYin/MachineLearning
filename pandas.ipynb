{
 "cells": [
  {
   "cell_type": "code",
   "execution_count": 1,
   "metadata": {},
   "outputs": [],
   "source": [
    "import numpy as np\n",
    "import pandas as pd"
   ]
  },
  {
   "cell_type": "code",
   "execution_count": 2,
   "metadata": {},
   "outputs": [],
   "source": [
    "s1 = pd.Series([1,2,3,4])"
   ]
  },
  {
   "cell_type": "code",
   "execution_count": 3,
   "metadata": {},
   "outputs": [
    {
     "data": {
      "text/plain": [
       "0    1\n",
       "1    2\n",
       "2    3\n",
       "3    4\n",
       "dtype: int64"
      ]
     },
     "execution_count": 3,
     "metadata": {},
     "output_type": "execute_result"
    }
   ],
   "source": [
    "s1"
   ]
  },
  {
   "cell_type": "code",
   "execution_count": 5,
   "metadata": {},
   "outputs": [
    {
     "data": {
      "text/plain": [
       "array([1, 2, 3, 4], dtype=int64)"
      ]
     },
     "execution_count": 5,
     "metadata": {},
     "output_type": "execute_result"
    }
   ],
   "source": [
    "s1.values"
   ]
  },
  {
   "cell_type": "code",
   "execution_count": 6,
   "metadata": {},
   "outputs": [
    {
     "data": {
      "text/plain": [
       "RangeIndex(start=0, stop=4, step=1)"
      ]
     },
     "execution_count": 6,
     "metadata": {},
     "output_type": "execute_result"
    }
   ],
   "source": [
    "s1.index"
   ]
  },
  {
   "cell_type": "code",
   "execution_count": 7,
   "metadata": {},
   "outputs": [],
   "source": [
    "s2 = pd.Series(np.arange(10))"
   ]
  },
  {
   "cell_type": "code",
   "execution_count": 8,
   "metadata": {},
   "outputs": [
    {
     "data": {
      "text/plain": [
       "0    0\n",
       "1    1\n",
       "2    2\n",
       "3    3\n",
       "4    4\n",
       "5    5\n",
       "6    6\n",
       "7    7\n",
       "8    8\n",
       "9    9\n",
       "dtype: int32"
      ]
     },
     "execution_count": 8,
     "metadata": {},
     "output_type": "execute_result"
    }
   ],
   "source": [
    "s2"
   ]
  },
  {
   "cell_type": "code",
   "execution_count": 9,
   "metadata": {},
   "outputs": [],
   "source": [
    "s3  =pd.Series({\"sda\":12,\"sadd\":2})"
   ]
  },
  {
   "cell_type": "code",
   "execution_count": 10,
   "metadata": {},
   "outputs": [
    {
     "data": {
      "text/plain": [
       "sda     12\n",
       "sadd     2\n",
       "dtype: int64"
      ]
     },
     "execution_count": 10,
     "metadata": {},
     "output_type": "execute_result"
    }
   ],
   "source": [
    "s3"
   ]
  },
  {
   "cell_type": "code",
   "execution_count": 11,
   "metadata": {},
   "outputs": [
    {
     "data": {
      "text/plain": [
       "Index(['sda', 'sadd'], dtype='object')"
      ]
     },
     "execution_count": 11,
     "metadata": {},
     "output_type": "execute_result"
    }
   ],
   "source": [
    "s3.index"
   ]
  },
  {
   "cell_type": "code",
   "execution_count": 12,
   "metadata": {},
   "outputs": [
    {
     "data": {
      "text/plain": [
       "array([12,  2], dtype=int64)"
      ]
     },
     "execution_count": 12,
     "metadata": {},
     "output_type": "execute_result"
    }
   ],
   "source": [
    "s3.values"
   ]
  },
  {
   "cell_type": "code",
   "execution_count": 24,
   "metadata": {},
   "outputs": [],
   "source": [
    "s4 = pd.Series([1,3,4],index = [7654,423,542])"
   ]
  },
  {
   "cell_type": "code",
   "execution_count": 15,
   "metadata": {},
   "outputs": [
    {
     "data": {
      "text/plain": [
       "7654    1\n",
       "423     3\n",
       "542     4\n",
       "dtype: int64"
      ]
     },
     "execution_count": 15,
     "metadata": {},
     "output_type": "execute_result"
    }
   ],
   "source": [
    "s4"
   ]
  },
  {
   "cell_type": "code",
   "execution_count": 18,
   "metadata": {},
   "outputs": [
    {
     "data": {
      "text/plain": [
       "3"
      ]
     },
     "execution_count": 18,
     "metadata": {},
     "output_type": "execute_result"
    }
   ],
   "source": [
    "s4[423]"
   ]
  },
  {
   "cell_type": "code",
   "execution_count": 19,
   "metadata": {},
   "outputs": [
    {
     "data": {
      "text/plain": [
       "423    3\n",
       "542    4\n",
       "dtype: int64"
      ]
     },
     "execution_count": 19,
     "metadata": {},
     "output_type": "execute_result"
    }
   ],
   "source": [
    "s4[s4>2]"
   ]
  },
  {
   "cell_type": "code",
   "execution_count": 20,
   "metadata": {},
   "outputs": [
    {
     "data": {
      "text/plain": [
       "7654    False\n",
       "423      True\n",
       "542      True\n",
       "dtype: bool"
      ]
     },
     "execution_count": 20,
     "metadata": {},
     "output_type": "execute_result"
    }
   ],
   "source": [
    "s4>2"
   ]
  },
  {
   "cell_type": "code",
   "execution_count": 34,
   "metadata": {},
   "outputs": [
    {
     "data": {
      "text/plain": [
       "{7654: 1, 423: 3, 542: 4}"
      ]
     },
     "execution_count": 34,
     "metadata": {},
     "output_type": "execute_result"
    }
   ],
   "source": [
    "s4.to_dict()"
   ]
  },
  {
   "cell_type": "code",
   "execution_count": 35,
   "metadata": {},
   "outputs": [],
   "source": [
    "s4 = pd.Series([1,2,3,4], index = ['A','B','C','D'])"
   ]
  },
  {
   "cell_type": "code",
   "execution_count": 59,
   "metadata": {},
   "outputs": [],
   "source": [
    "s5 = pd.Series(s4,index = ['A','A','C','D',\"E\"])"
   ]
  },
  {
   "cell_type": "code",
   "execution_count": 47,
   "metadata": {},
   "outputs": [
    {
     "data": {
      "text/plain": [
       "A    1.0\n",
       "A    1.0\n",
       "C    3.0\n",
       "D    4.0\n",
       "E    NaN\n",
       "dtype: float64"
      ]
     },
     "execution_count": 47,
     "metadata": {},
     "output_type": "execute_result"
    }
   ],
   "source": [
    "s5"
   ]
  },
  {
   "cell_type": "code",
   "execution_count": 48,
   "metadata": {},
   "outputs": [
    {
     "data": {
      "text/plain": [
       "A    False\n",
       "A    False\n",
       "C    False\n",
       "D    False\n",
       "E     True\n",
       "dtype: bool"
      ]
     },
     "execution_count": 48,
     "metadata": {},
     "output_type": "execute_result"
    }
   ],
   "source": [
    "pd.isnull(s5)"
   ]
  },
  {
   "cell_type": "code",
   "execution_count": 50,
   "metadata": {},
   "outputs": [
    {
     "data": {
      "text/plain": [
       "A     True\n",
       "A     True\n",
       "C     True\n",
       "D     True\n",
       "E    False\n",
       "dtype: bool"
      ]
     },
     "execution_count": 50,
     "metadata": {},
     "output_type": "execute_result"
    }
   ],
   "source": [
    "pd.notnull(s5)"
   ]
  },
  {
   "cell_type": "code",
   "execution_count": 51,
   "metadata": {},
   "outputs": [],
   "source": [
    "s5.name = \"SD\""
   ]
  },
  {
   "cell_type": "code",
   "execution_count": 52,
   "metadata": {},
   "outputs": [
    {
     "data": {
      "text/plain": [
       "A    1.0\n",
       "A    1.0\n",
       "C    3.0\n",
       "D    4.0\n",
       "E    NaN\n",
       "Name: SD, dtype: float64"
      ]
     },
     "execution_count": 52,
     "metadata": {},
     "output_type": "execute_result"
    }
   ],
   "source": [
    "s5"
   ]
  },
  {
   "cell_type": "code",
   "execution_count": 55,
   "metadata": {},
   "outputs": [],
   "source": [
    "s5.index = ['A','B','C','D',\"F\"]"
   ]
  },
  {
   "cell_type": "code",
   "execution_count": 60,
   "metadata": {},
   "outputs": [
    {
     "data": {
      "text/plain": [
       "A    1.0\n",
       "A    1.0\n",
       "C    3.0\n",
       "D    4.0\n",
       "E    NaN\n",
       "dtype: float64"
      ]
     },
     "execution_count": 60,
     "metadata": {},
     "output_type": "execute_result"
    }
   ],
   "source": [
    "s5"
   ]
  },
  {
   "cell_type": "code",
   "execution_count": 61,
   "metadata": {},
   "outputs": [
    {
     "data": {
      "text/plain": [
       "A    2.0\n",
       "A    2.0\n",
       "C    3.0\n",
       "D    4.0\n",
       "E    NaN\n",
       "dtype: float64"
      ]
     },
     "execution_count": 61,
     "metadata": {},
     "output_type": "execute_result"
    }
   ],
   "source": [
    "s5['A'] = 2\n",
    "s5"
   ]
  },
  {
   "cell_type": "code",
   "execution_count": 62,
   "metadata": {},
   "outputs": [],
   "source": [
    "from pandas import Series, DataFrame"
   ]
  },
  {
   "cell_type": "code",
   "execution_count": 64,
   "metadata": {},
   "outputs": [
    {
     "data": {
      "text/plain": [
       "True"
      ]
     },
     "execution_count": 64,
     "metadata": {},
     "output_type": "execute_result"
    }
   ],
   "source": [
    "import webbrowser\n",
    "link = \"https://www.tiobe.com/tiobe-index/\"\n",
    "webbrowser.open(link)"
   ]
  },
  {
   "cell_type": "code",
   "execution_count": 65,
   "metadata": {},
   "outputs": [],
   "source": [
    "data = pd.read_clipboard()"
   ]
  },
  {
   "cell_type": "code",
   "execution_count": 66,
   "metadata": {},
   "outputs": [
    {
     "data": {
      "text/html": [
       "<div>\n",
       "<style scoped>\n",
       "    .dataframe tbody tr th:only-of-type {\n",
       "        vertical-align: middle;\n",
       "    }\n",
       "\n",
       "    .dataframe tbody tr th {\n",
       "        vertical-align: top;\n",
       "    }\n",
       "\n",
       "    .dataframe thead th {\n",
       "        text-align: right;\n",
       "    }\n",
       "</style>\n",
       "<table border=\"1\" class=\"dataframe\">\n",
       "  <thead>\n",
       "    <tr style=\"text-align: right;\">\n",
       "      <th></th>\n",
       "      <th>Feb 2019</th>\n",
       "      <th>Feb 2018</th>\n",
       "      <th>Change</th>\n",
       "      <th>Programming Language</th>\n",
       "      <th>Ratings</th>\n",
       "      <th>Change.1</th>\n",
       "    </tr>\n",
       "  </thead>\n",
       "  <tbody>\n",
       "    <tr>\n",
       "      <th>0</th>\n",
       "      <td>1</td>\n",
       "      <td>1</td>\n",
       "      <td>NaN</td>\n",
       "      <td>Java</td>\n",
       "      <td>15.876%</td>\n",
       "      <td>+0.89%</td>\n",
       "    </tr>\n",
       "    <tr>\n",
       "      <th>1</th>\n",
       "      <td>2</td>\n",
       "      <td>2</td>\n",
       "      <td>NaN</td>\n",
       "      <td>C</td>\n",
       "      <td>12.424%</td>\n",
       "      <td>+0.57%</td>\n",
       "    </tr>\n",
       "    <tr>\n",
       "      <th>2</th>\n",
       "      <td>3</td>\n",
       "      <td>4</td>\n",
       "      <td>change</td>\n",
       "      <td>Python</td>\n",
       "      <td>7.574%</td>\n",
       "      <td>+2.41%</td>\n",
       "    </tr>\n",
       "    <tr>\n",
       "      <th>3</th>\n",
       "      <td>4</td>\n",
       "      <td>3</td>\n",
       "      <td>change</td>\n",
       "      <td>C++</td>\n",
       "      <td>7.444%</td>\n",
       "      <td>+1.72%</td>\n",
       "    </tr>\n",
       "    <tr>\n",
       "      <th>4</th>\n",
       "      <td>5</td>\n",
       "      <td>6</td>\n",
       "      <td>change</td>\n",
       "      <td>Visual Basic .NET</td>\n",
       "      <td>7.095%</td>\n",
       "      <td>+3.02%</td>\n",
       "    </tr>\n",
       "    <tr>\n",
       "      <th>5</th>\n",
       "      <td>6</td>\n",
       "      <td>8</td>\n",
       "      <td>change</td>\n",
       "      <td>JavaScript</td>\n",
       "      <td>2.848%</td>\n",
       "      <td>-0.32%</td>\n",
       "    </tr>\n",
       "    <tr>\n",
       "      <th>6</th>\n",
       "      <td>7</td>\n",
       "      <td>5</td>\n",
       "      <td>change</td>\n",
       "      <td>C#</td>\n",
       "      <td>2.846%</td>\n",
       "      <td>-1.61%</td>\n",
       "    </tr>\n",
       "    <tr>\n",
       "      <th>7</th>\n",
       "      <td>8</td>\n",
       "      <td>7</td>\n",
       "      <td>change</td>\n",
       "      <td>PHP</td>\n",
       "      <td>2.271%</td>\n",
       "      <td>-1.15%</td>\n",
       "    </tr>\n",
       "    <tr>\n",
       "      <th>8</th>\n",
       "      <td>9</td>\n",
       "      <td>11</td>\n",
       "      <td>change</td>\n",
       "      <td>SQL</td>\n",
       "      <td>1.900%</td>\n",
       "      <td>-0.46%</td>\n",
       "    </tr>\n",
       "    <tr>\n",
       "      <th>9</th>\n",
       "      <td>10</td>\n",
       "      <td>20</td>\n",
       "      <td>change</td>\n",
       "      <td>Objective-C</td>\n",
       "      <td>1.447%</td>\n",
       "      <td>+0.32%</td>\n",
       "    </tr>\n",
       "    <tr>\n",
       "      <th>10</th>\n",
       "      <td>11</td>\n",
       "      <td>15</td>\n",
       "      <td>change</td>\n",
       "      <td>Assembly language</td>\n",
       "      <td>1.377%</td>\n",
       "      <td>-0.46%</td>\n",
       "    </tr>\n",
       "    <tr>\n",
       "      <th>11</th>\n",
       "      <td>12</td>\n",
       "      <td>19</td>\n",
       "      <td>change</td>\n",
       "      <td>MATLAB</td>\n",
       "      <td>1.196%</td>\n",
       "      <td>-0.03%</td>\n",
       "    </tr>\n",
       "    <tr>\n",
       "      <th>12</th>\n",
       "      <td>13</td>\n",
       "      <td>17</td>\n",
       "      <td>change</td>\n",
       "      <td>Perl</td>\n",
       "      <td>1.102%</td>\n",
       "      <td>-0.66%</td>\n",
       "    </tr>\n",
       "    <tr>\n",
       "      <th>13</th>\n",
       "      <td>14</td>\n",
       "      <td>9</td>\n",
       "      <td>change</td>\n",
       "      <td>Delphi/Object Pascal</td>\n",
       "      <td>1.066%</td>\n",
       "      <td>-1.52%</td>\n",
       "    </tr>\n",
       "    <tr>\n",
       "      <th>14</th>\n",
       "      <td>15</td>\n",
       "      <td>13</td>\n",
       "      <td>change</td>\n",
       "      <td>R</td>\n",
       "      <td>1.043%</td>\n",
       "      <td>-1.04%</td>\n",
       "    </tr>\n",
       "    <tr>\n",
       "      <th>15</th>\n",
       "      <td>16</td>\n",
       "      <td>10</td>\n",
       "      <td>change</td>\n",
       "      <td>Ruby</td>\n",
       "      <td>1.037%</td>\n",
       "      <td>-1.50%</td>\n",
       "    </tr>\n",
       "    <tr>\n",
       "      <th>16</th>\n",
       "      <td>17</td>\n",
       "      <td>12</td>\n",
       "      <td>change</td>\n",
       "      <td>Visual Basic</td>\n",
       "      <td>0.991%</td>\n",
       "      <td>-1.19%</td>\n",
       "    </tr>\n",
       "    <tr>\n",
       "      <th>17</th>\n",
       "      <td>18</td>\n",
       "      <td>18</td>\n",
       "      <td>NaN</td>\n",
       "      <td>Go</td>\n",
       "      <td>0.960%</td>\n",
       "      <td>-0.46%</td>\n",
       "    </tr>\n",
       "    <tr>\n",
       "      <th>18</th>\n",
       "      <td>19</td>\n",
       "      <td>49</td>\n",
       "      <td>change</td>\n",
       "      <td>Groovy</td>\n",
       "      <td>0.936%</td>\n",
       "      <td>+0.75%</td>\n",
       "    </tr>\n",
       "    <tr>\n",
       "      <th>19</th>\n",
       "      <td>20</td>\n",
       "      <td>16</td>\n",
       "      <td>change</td>\n",
       "      <td>Swift</td>\n",
       "      <td>0.918%</td>\n",
       "      <td>-0.88%</td>\n",
       "    </tr>\n",
       "  </tbody>\n",
       "</table>\n",
       "</div>"
      ],
      "text/plain": [
       "    Feb 2019  Feb 2018  Change  Programming Language  Ratings Change.1\n",
       "0          1         1     NaN                  Java  15.876%   +0.89%\n",
       "1          2         2     NaN                     C  12.424%   +0.57%\n",
       "2          3         4  change                Python   7.574%   +2.41%\n",
       "3          4         3  change                   C++   7.444%   +1.72%\n",
       "4          5         6  change     Visual Basic .NET   7.095%   +3.02%\n",
       "5          6         8  change            JavaScript   2.848%   -0.32%\n",
       "6          7         5  change                    C#   2.846%   -1.61%\n",
       "7          8         7  change                   PHP   2.271%   -1.15%\n",
       "8          9        11  change                   SQL   1.900%   -0.46%\n",
       "9         10        20  change           Objective-C   1.447%   +0.32%\n",
       "10        11        15  change     Assembly language   1.377%   -0.46%\n",
       "11        12        19  change                MATLAB   1.196%   -0.03%\n",
       "12        13        17  change                  Perl   1.102%   -0.66%\n",
       "13        14         9  change  Delphi/Object Pascal   1.066%   -1.52%\n",
       "14        15        13  change                     R   1.043%   -1.04%\n",
       "15        16        10  change                  Ruby   1.037%   -1.50%\n",
       "16        17        12  change          Visual Basic   0.991%   -1.19%\n",
       "17        18        18     NaN                    Go   0.960%   -0.46%\n",
       "18        19        49  change                Groovy   0.936%   +0.75%\n",
       "19        20        16  change                 Swift   0.918%   -0.88%"
      ]
     },
     "execution_count": 66,
     "metadata": {},
     "output_type": "execute_result"
    }
   ],
   "source": [
    "data"
   ]
  },
  {
   "cell_type": "code",
   "execution_count": 68,
   "metadata": {},
   "outputs": [
    {
     "data": {
      "text/plain": [
       "0        NaN\n",
       "1        NaN\n",
       "2     change\n",
       "3     change\n",
       "4     change\n",
       "5     change\n",
       "6     change\n",
       "7     change\n",
       "8     change\n",
       "9     change\n",
       "10    change\n",
       "11    change\n",
       "12    change\n",
       "13    change\n",
       "14    change\n",
       "15    change\n",
       "16    change\n",
       "17       NaN\n",
       "18    change\n",
       "19    change\n",
       "Name: Change, dtype: object"
      ]
     },
     "execution_count": 68,
     "metadata": {},
     "output_type": "execute_result"
    }
   ],
   "source": [
    "data[\"Change\"]"
   ]
  },
  {
   "cell_type": "code",
   "execution_count": 71,
   "metadata": {},
   "outputs": [
    {
     "data": {
      "text/plain": [
       "0     15.876%\n",
       "1     12.424%\n",
       "2      7.574%\n",
       "3      7.444%\n",
       "4      7.095%\n",
       "5      2.848%\n",
       "6      2.846%\n",
       "7      2.271%\n",
       "8      1.900%\n",
       "9      1.447%\n",
       "10     1.377%\n",
       "11     1.196%\n",
       "12     1.102%\n",
       "13     1.066%\n",
       "14     1.043%\n",
       "15     1.037%\n",
       "16     0.991%\n",
       "17     0.960%\n",
       "18     0.936%\n",
       "19     0.918%\n",
       "Name: Ratings, dtype: object"
      ]
     },
     "execution_count": 71,
     "metadata": {},
     "output_type": "execute_result"
    }
   ],
   "source": [
    "data.Ratings"
   ]
  },
  {
   "cell_type": "code",
   "execution_count": 72,
   "metadata": {},
   "outputs": [
    {
     "data": {
      "text/plain": [
       "Index(['Feb 2019', 'Feb 2018', 'Change', 'Programming Language', 'Ratings',\n",
       "       'Change.1'],\n",
       "      dtype='object')"
      ]
     },
     "execution_count": 72,
     "metadata": {},
     "output_type": "execute_result"
    }
   ],
   "source": [
    "data.columns"
   ]
  },
  {
   "cell_type": "code",
   "execution_count": 73,
   "metadata": {},
   "outputs": [],
   "source": [
    "data_new = DataFrame(data, columns=[\"Programming Language\",\"Feb 2019\",\"Feb 2018\", \"Ratings\"])"
   ]
  },
  {
   "cell_type": "code",
   "execution_count": 74,
   "metadata": {},
   "outputs": [
    {
     "data": {
      "text/html": [
       "<div>\n",
       "<style scoped>\n",
       "    .dataframe tbody tr th:only-of-type {\n",
       "        vertical-align: middle;\n",
       "    }\n",
       "\n",
       "    .dataframe tbody tr th {\n",
       "        vertical-align: top;\n",
       "    }\n",
       "\n",
       "    .dataframe thead th {\n",
       "        text-align: right;\n",
       "    }\n",
       "</style>\n",
       "<table border=\"1\" class=\"dataframe\">\n",
       "  <thead>\n",
       "    <tr style=\"text-align: right;\">\n",
       "      <th></th>\n",
       "      <th>Programming Language</th>\n",
       "      <th>Feb 2019</th>\n",
       "      <th>Feb 2018</th>\n",
       "      <th>Ratings</th>\n",
       "    </tr>\n",
       "  </thead>\n",
       "  <tbody>\n",
       "    <tr>\n",
       "      <th>0</th>\n",
       "      <td>Java</td>\n",
       "      <td>1</td>\n",
       "      <td>1</td>\n",
       "      <td>15.876%</td>\n",
       "    </tr>\n",
       "    <tr>\n",
       "      <th>1</th>\n",
       "      <td>C</td>\n",
       "      <td>2</td>\n",
       "      <td>2</td>\n",
       "      <td>12.424%</td>\n",
       "    </tr>\n",
       "    <tr>\n",
       "      <th>2</th>\n",
       "      <td>Python</td>\n",
       "      <td>3</td>\n",
       "      <td>4</td>\n",
       "      <td>7.574%</td>\n",
       "    </tr>\n",
       "    <tr>\n",
       "      <th>3</th>\n",
       "      <td>C++</td>\n",
       "      <td>4</td>\n",
       "      <td>3</td>\n",
       "      <td>7.444%</td>\n",
       "    </tr>\n",
       "    <tr>\n",
       "      <th>4</th>\n",
       "      <td>Visual Basic .NET</td>\n",
       "      <td>5</td>\n",
       "      <td>6</td>\n",
       "      <td>7.095%</td>\n",
       "    </tr>\n",
       "    <tr>\n",
       "      <th>5</th>\n",
       "      <td>JavaScript</td>\n",
       "      <td>6</td>\n",
       "      <td>8</td>\n",
       "      <td>2.848%</td>\n",
       "    </tr>\n",
       "    <tr>\n",
       "      <th>6</th>\n",
       "      <td>C#</td>\n",
       "      <td>7</td>\n",
       "      <td>5</td>\n",
       "      <td>2.846%</td>\n",
       "    </tr>\n",
       "    <tr>\n",
       "      <th>7</th>\n",
       "      <td>PHP</td>\n",
       "      <td>8</td>\n",
       "      <td>7</td>\n",
       "      <td>2.271%</td>\n",
       "    </tr>\n",
       "    <tr>\n",
       "      <th>8</th>\n",
       "      <td>SQL</td>\n",
       "      <td>9</td>\n",
       "      <td>11</td>\n",
       "      <td>1.900%</td>\n",
       "    </tr>\n",
       "    <tr>\n",
       "      <th>9</th>\n",
       "      <td>Objective-C</td>\n",
       "      <td>10</td>\n",
       "      <td>20</td>\n",
       "      <td>1.447%</td>\n",
       "    </tr>\n",
       "    <tr>\n",
       "      <th>10</th>\n",
       "      <td>Assembly language</td>\n",
       "      <td>11</td>\n",
       "      <td>15</td>\n",
       "      <td>1.377%</td>\n",
       "    </tr>\n",
       "    <tr>\n",
       "      <th>11</th>\n",
       "      <td>MATLAB</td>\n",
       "      <td>12</td>\n",
       "      <td>19</td>\n",
       "      <td>1.196%</td>\n",
       "    </tr>\n",
       "    <tr>\n",
       "      <th>12</th>\n",
       "      <td>Perl</td>\n",
       "      <td>13</td>\n",
       "      <td>17</td>\n",
       "      <td>1.102%</td>\n",
       "    </tr>\n",
       "    <tr>\n",
       "      <th>13</th>\n",
       "      <td>Delphi/Object Pascal</td>\n",
       "      <td>14</td>\n",
       "      <td>9</td>\n",
       "      <td>1.066%</td>\n",
       "    </tr>\n",
       "    <tr>\n",
       "      <th>14</th>\n",
       "      <td>R</td>\n",
       "      <td>15</td>\n",
       "      <td>13</td>\n",
       "      <td>1.043%</td>\n",
       "    </tr>\n",
       "    <tr>\n",
       "      <th>15</th>\n",
       "      <td>Ruby</td>\n",
       "      <td>16</td>\n",
       "      <td>10</td>\n",
       "      <td>1.037%</td>\n",
       "    </tr>\n",
       "    <tr>\n",
       "      <th>16</th>\n",
       "      <td>Visual Basic</td>\n",
       "      <td>17</td>\n",
       "      <td>12</td>\n",
       "      <td>0.991%</td>\n",
       "    </tr>\n",
       "    <tr>\n",
       "      <th>17</th>\n",
       "      <td>Go</td>\n",
       "      <td>18</td>\n",
       "      <td>18</td>\n",
       "      <td>0.960%</td>\n",
       "    </tr>\n",
       "    <tr>\n",
       "      <th>18</th>\n",
       "      <td>Groovy</td>\n",
       "      <td>19</td>\n",
       "      <td>49</td>\n",
       "      <td>0.936%</td>\n",
       "    </tr>\n",
       "    <tr>\n",
       "      <th>19</th>\n",
       "      <td>Swift</td>\n",
       "      <td>20</td>\n",
       "      <td>16</td>\n",
       "      <td>0.918%</td>\n",
       "    </tr>\n",
       "  </tbody>\n",
       "</table>\n",
       "</div>"
      ],
      "text/plain": [
       "    Programming Language  Feb 2019  Feb 2018  Ratings\n",
       "0                   Java         1         1  15.876%\n",
       "1                      C         2         2  12.424%\n",
       "2                 Python         3         4   7.574%\n",
       "3                    C++         4         3   7.444%\n",
       "4      Visual Basic .NET         5         6   7.095%\n",
       "5             JavaScript         6         8   2.848%\n",
       "6                     C#         7         5   2.846%\n",
       "7                    PHP         8         7   2.271%\n",
       "8                    SQL         9        11   1.900%\n",
       "9            Objective-C        10        20   1.447%\n",
       "10     Assembly language        11        15   1.377%\n",
       "11                MATLAB        12        19   1.196%\n",
       "12                  Perl        13        17   1.102%\n",
       "13  Delphi/Object Pascal        14         9   1.066%\n",
       "14                     R        15        13   1.043%\n",
       "15                  Ruby        16        10   1.037%\n",
       "16          Visual Basic        17        12   0.991%\n",
       "17                    Go        18        18   0.960%\n",
       "18                Groovy        19        49   0.936%\n",
       "19                 Swift        20        16   0.918%"
      ]
     },
     "execution_count": 74,
     "metadata": {},
     "output_type": "execute_result"
    }
   ],
   "source": [
    "data_new"
   ]
  },
  {
   "cell_type": "code",
   "execution_count": 85,
   "metadata": {},
   "outputs": [
    {
     "data": {
      "text/html": [
       "<div>\n",
       "<style scoped>\n",
       "    .dataframe tbody tr th:only-of-type {\n",
       "        vertical-align: middle;\n",
       "    }\n",
       "\n",
       "    .dataframe tbody tr th {\n",
       "        vertical-align: top;\n",
       "    }\n",
       "\n",
       "    .dataframe thead th {\n",
       "        text-align: right;\n",
       "    }\n",
       "</style>\n",
       "<table border=\"1\" class=\"dataframe\">\n",
       "  <thead>\n",
       "    <tr style=\"text-align: right;\">\n",
       "      <th></th>\n",
       "      <th>Programming Language</th>\n",
       "      <th>Feb 2019</th>\n",
       "      <th>Feb 2018</th>\n",
       "      <th>Feb 2020</th>\n",
       "      <th>Ratings</th>\n",
       "    </tr>\n",
       "  </thead>\n",
       "  <tbody>\n",
       "    <tr>\n",
       "      <th>0</th>\n",
       "      <td>Java</td>\n",
       "      <td>1</td>\n",
       "      <td>1</td>\n",
       "      <td>NaN</td>\n",
       "      <td>15.876%</td>\n",
       "    </tr>\n",
       "    <tr>\n",
       "      <th>1</th>\n",
       "      <td>C</td>\n",
       "      <td>2</td>\n",
       "      <td>2</td>\n",
       "      <td>NaN</td>\n",
       "      <td>12.424%</td>\n",
       "    </tr>\n",
       "    <tr>\n",
       "      <th>2</th>\n",
       "      <td>Python</td>\n",
       "      <td>3</td>\n",
       "      <td>4</td>\n",
       "      <td>NaN</td>\n",
       "      <td>7.574%</td>\n",
       "    </tr>\n",
       "    <tr>\n",
       "      <th>3</th>\n",
       "      <td>C++</td>\n",
       "      <td>4</td>\n",
       "      <td>3</td>\n",
       "      <td>NaN</td>\n",
       "      <td>7.444%</td>\n",
       "    </tr>\n",
       "    <tr>\n",
       "      <th>4</th>\n",
       "      <td>Visual Basic .NET</td>\n",
       "      <td>5</td>\n",
       "      <td>6</td>\n",
       "      <td>NaN</td>\n",
       "      <td>7.095%</td>\n",
       "    </tr>\n",
       "    <tr>\n",
       "      <th>5</th>\n",
       "      <td>JavaScript</td>\n",
       "      <td>6</td>\n",
       "      <td>8</td>\n",
       "      <td>NaN</td>\n",
       "      <td>2.848%</td>\n",
       "    </tr>\n",
       "    <tr>\n",
       "      <th>6</th>\n",
       "      <td>C#</td>\n",
       "      <td>7</td>\n",
       "      <td>5</td>\n",
       "      <td>NaN</td>\n",
       "      <td>2.846%</td>\n",
       "    </tr>\n",
       "    <tr>\n",
       "      <th>7</th>\n",
       "      <td>PHP</td>\n",
       "      <td>8</td>\n",
       "      <td>7</td>\n",
       "      <td>NaN</td>\n",
       "      <td>2.271%</td>\n",
       "    </tr>\n",
       "    <tr>\n",
       "      <th>8</th>\n",
       "      <td>SQL</td>\n",
       "      <td>9</td>\n",
       "      <td>11</td>\n",
       "      <td>NaN</td>\n",
       "      <td>1.900%</td>\n",
       "    </tr>\n",
       "    <tr>\n",
       "      <th>9</th>\n",
       "      <td>Objective-C</td>\n",
       "      <td>10</td>\n",
       "      <td>20</td>\n",
       "      <td>NaN</td>\n",
       "      <td>1.447%</td>\n",
       "    </tr>\n",
       "    <tr>\n",
       "      <th>10</th>\n",
       "      <td>Assembly language</td>\n",
       "      <td>11</td>\n",
       "      <td>15</td>\n",
       "      <td>NaN</td>\n",
       "      <td>1.377%</td>\n",
       "    </tr>\n",
       "    <tr>\n",
       "      <th>11</th>\n",
       "      <td>MATLAB</td>\n",
       "      <td>12</td>\n",
       "      <td>19</td>\n",
       "      <td>NaN</td>\n",
       "      <td>1.196%</td>\n",
       "    </tr>\n",
       "    <tr>\n",
       "      <th>12</th>\n",
       "      <td>Perl</td>\n",
       "      <td>13</td>\n",
       "      <td>17</td>\n",
       "      <td>NaN</td>\n",
       "      <td>1.102%</td>\n",
       "    </tr>\n",
       "    <tr>\n",
       "      <th>13</th>\n",
       "      <td>Delphi/Object Pascal</td>\n",
       "      <td>14</td>\n",
       "      <td>9</td>\n",
       "      <td>NaN</td>\n",
       "      <td>1.066%</td>\n",
       "    </tr>\n",
       "    <tr>\n",
       "      <th>14</th>\n",
       "      <td>R</td>\n",
       "      <td>15</td>\n",
       "      <td>13</td>\n",
       "      <td>NaN</td>\n",
       "      <td>1.043%</td>\n",
       "    </tr>\n",
       "    <tr>\n",
       "      <th>15</th>\n",
       "      <td>Ruby</td>\n",
       "      <td>16</td>\n",
       "      <td>10</td>\n",
       "      <td>NaN</td>\n",
       "      <td>1.037%</td>\n",
       "    </tr>\n",
       "    <tr>\n",
       "      <th>16</th>\n",
       "      <td>Visual Basic</td>\n",
       "      <td>17</td>\n",
       "      <td>12</td>\n",
       "      <td>NaN</td>\n",
       "      <td>0.991%</td>\n",
       "    </tr>\n",
       "    <tr>\n",
       "      <th>17</th>\n",
       "      <td>Go</td>\n",
       "      <td>18</td>\n",
       "      <td>18</td>\n",
       "      <td>NaN</td>\n",
       "      <td>0.960%</td>\n",
       "    </tr>\n",
       "    <tr>\n",
       "      <th>18</th>\n",
       "      <td>Groovy</td>\n",
       "      <td>19</td>\n",
       "      <td>49</td>\n",
       "      <td>NaN</td>\n",
       "      <td>0.936%</td>\n",
       "    </tr>\n",
       "    <tr>\n",
       "      <th>19</th>\n",
       "      <td>Swift</td>\n",
       "      <td>20</td>\n",
       "      <td>16</td>\n",
       "      <td>NaN</td>\n",
       "      <td>0.918%</td>\n",
       "    </tr>\n",
       "  </tbody>\n",
       "</table>\n",
       "</div>"
      ],
      "text/plain": [
       "    Programming Language  Feb 2019  Feb 2018  Feb 2020  Ratings\n",
       "0                   Java         1         1       NaN  15.876%\n",
       "1                      C         2         2       NaN  12.424%\n",
       "2                 Python         3         4       NaN   7.574%\n",
       "3                    C++         4         3       NaN   7.444%\n",
       "4      Visual Basic .NET         5         6       NaN   7.095%\n",
       "5             JavaScript         6         8       NaN   2.848%\n",
       "6                     C#         7         5       NaN   2.846%\n",
       "7                    PHP         8         7       NaN   2.271%\n",
       "8                    SQL         9        11       NaN   1.900%\n",
       "9            Objective-C        10        20       NaN   1.447%\n",
       "10     Assembly language        11        15       NaN   1.377%\n",
       "11                MATLAB        12        19       NaN   1.196%\n",
       "12                  Perl        13        17       NaN   1.102%\n",
       "13  Delphi/Object Pascal        14         9       NaN   1.066%\n",
       "14                     R        15        13       NaN   1.043%\n",
       "15                  Ruby        16        10       NaN   1.037%\n",
       "16          Visual Basic        17        12       NaN   0.991%\n",
       "17                    Go        18        18       NaN   0.960%\n",
       "18                Groovy        19        49       NaN   0.936%\n",
       "19                 Swift        20        16       NaN   0.918%"
      ]
     },
     "execution_count": 85,
     "metadata": {},
     "output_type": "execute_result"
    }
   ],
   "source": [
    "df_new = DataFrame(data, columns=[\"Programming Language\",\"Feb 2019\",\"Feb 2018\", \"Feb 2020\", \"Ratings\"])\n",
    "df_new"
   ]
  },
  {
   "cell_type": "code",
   "execution_count": 86,
   "metadata": {},
   "outputs": [],
   "source": [
    "df_new[\"Feb 2020\"] = np.arange(20)"
   ]
  },
  {
   "cell_type": "code",
   "execution_count": 96,
   "metadata": {
    "scrolled": true
   },
   "outputs": [
    {
     "data": {
      "text/html": [
       "<div>\n",
       "<style scoped>\n",
       "    .dataframe tbody tr th:only-of-type {\n",
       "        vertical-align: middle;\n",
       "    }\n",
       "\n",
       "    .dataframe tbody tr th {\n",
       "        vertical-align: top;\n",
       "    }\n",
       "\n",
       "    .dataframe thead th {\n",
       "        text-align: right;\n",
       "    }\n",
       "</style>\n",
       "<table border=\"1\" class=\"dataframe\">\n",
       "  <thead>\n",
       "    <tr style=\"text-align: right;\">\n",
       "      <th></th>\n",
       "      <th>Programming Language</th>\n",
       "      <th>Feb 2019</th>\n",
       "      <th>Feb 2018</th>\n",
       "      <th>Feb 2020</th>\n",
       "      <th>Ratings</th>\n",
       "    </tr>\n",
       "  </thead>\n",
       "  <tbody>\n",
       "    <tr>\n",
       "      <th>0</th>\n",
       "      <td>Java</td>\n",
       "      <td>1</td>\n",
       "      <td>1</td>\n",
       "      <td>0</td>\n",
       "      <td>15.876%</td>\n",
       "    </tr>\n",
       "    <tr>\n",
       "      <th>1</th>\n",
       "      <td>C</td>\n",
       "      <td>2</td>\n",
       "      <td>2</td>\n",
       "      <td>1</td>\n",
       "      <td>12.424%</td>\n",
       "    </tr>\n",
       "    <tr>\n",
       "      <th>2</th>\n",
       "      <td>Python</td>\n",
       "      <td>3</td>\n",
       "      <td>4</td>\n",
       "      <td>2</td>\n",
       "      <td>7.574%</td>\n",
       "    </tr>\n",
       "    <tr>\n",
       "      <th>3</th>\n",
       "      <td>C++</td>\n",
       "      <td>4</td>\n",
       "      <td>3</td>\n",
       "      <td>3</td>\n",
       "      <td>7.444%</td>\n",
       "    </tr>\n",
       "    <tr>\n",
       "      <th>4</th>\n",
       "      <td>Visual Basic .NET</td>\n",
       "      <td>5</td>\n",
       "      <td>6</td>\n",
       "      <td>200</td>\n",
       "      <td>7.095%</td>\n",
       "    </tr>\n",
       "    <tr>\n",
       "      <th>5</th>\n",
       "      <td>JavaScript</td>\n",
       "      <td>6</td>\n",
       "      <td>8</td>\n",
       "      <td>5</td>\n",
       "      <td>2.848%</td>\n",
       "    </tr>\n",
       "    <tr>\n",
       "      <th>6</th>\n",
       "      <td>C#</td>\n",
       "      <td>7</td>\n",
       "      <td>5</td>\n",
       "      <td>100</td>\n",
       "      <td>2.846%</td>\n",
       "    </tr>\n",
       "    <tr>\n",
       "      <th>7</th>\n",
       "      <td>PHP</td>\n",
       "      <td>8</td>\n",
       "      <td>7</td>\n",
       "      <td>7</td>\n",
       "      <td>2.271%</td>\n",
       "    </tr>\n",
       "    <tr>\n",
       "      <th>8</th>\n",
       "      <td>SQL</td>\n",
       "      <td>9</td>\n",
       "      <td>11</td>\n",
       "      <td>8</td>\n",
       "      <td>1.900%</td>\n",
       "    </tr>\n",
       "    <tr>\n",
       "      <th>9</th>\n",
       "      <td>Objective-C</td>\n",
       "      <td>10</td>\n",
       "      <td>20</td>\n",
       "      <td>9</td>\n",
       "      <td>1.447%</td>\n",
       "    </tr>\n",
       "    <tr>\n",
       "      <th>10</th>\n",
       "      <td>Assembly language</td>\n",
       "      <td>11</td>\n",
       "      <td>15</td>\n",
       "      <td>10</td>\n",
       "      <td>1.377%</td>\n",
       "    </tr>\n",
       "    <tr>\n",
       "      <th>11</th>\n",
       "      <td>MATLAB</td>\n",
       "      <td>12</td>\n",
       "      <td>19</td>\n",
       "      <td>11</td>\n",
       "      <td>1.196%</td>\n",
       "    </tr>\n",
       "    <tr>\n",
       "      <th>12</th>\n",
       "      <td>Perl</td>\n",
       "      <td>13</td>\n",
       "      <td>17</td>\n",
       "      <td>12</td>\n",
       "      <td>1.102%</td>\n",
       "    </tr>\n",
       "    <tr>\n",
       "      <th>13</th>\n",
       "      <td>Delphi/Object Pascal</td>\n",
       "      <td>14</td>\n",
       "      <td>9</td>\n",
       "      <td>13</td>\n",
       "      <td>1.066%</td>\n",
       "    </tr>\n",
       "    <tr>\n",
       "      <th>14</th>\n",
       "      <td>R</td>\n",
       "      <td>15</td>\n",
       "      <td>13</td>\n",
       "      <td>14</td>\n",
       "      <td>1.043%</td>\n",
       "    </tr>\n",
       "    <tr>\n",
       "      <th>15</th>\n",
       "      <td>Ruby</td>\n",
       "      <td>16</td>\n",
       "      <td>10</td>\n",
       "      <td>15</td>\n",
       "      <td>1.037%</td>\n",
       "    </tr>\n",
       "    <tr>\n",
       "      <th>16</th>\n",
       "      <td>Visual Basic</td>\n",
       "      <td>17</td>\n",
       "      <td>12</td>\n",
       "      <td>16</td>\n",
       "      <td>0.991%</td>\n",
       "    </tr>\n",
       "    <tr>\n",
       "      <th>17</th>\n",
       "      <td>Go</td>\n",
       "      <td>18</td>\n",
       "      <td>18</td>\n",
       "      <td>17</td>\n",
       "      <td>0.960%</td>\n",
       "    </tr>\n",
       "    <tr>\n",
       "      <th>18</th>\n",
       "      <td>Groovy</td>\n",
       "      <td>19</td>\n",
       "      <td>49</td>\n",
       "      <td>18</td>\n",
       "      <td>0.936%</td>\n",
       "    </tr>\n",
       "    <tr>\n",
       "      <th>19</th>\n",
       "      <td>Swift</td>\n",
       "      <td>20</td>\n",
       "      <td>16</td>\n",
       "      <td>19</td>\n",
       "      <td>0.918%</td>\n",
       "    </tr>\n",
       "  </tbody>\n",
       "</table>\n",
       "</div>"
      ],
      "text/plain": [
       "    Programming Language  Feb 2019  Feb 2018  Feb 2020  Ratings\n",
       "0                   Java         1         1         0  15.876%\n",
       "1                      C         2         2         1  12.424%\n",
       "2                 Python         3         4         2   7.574%\n",
       "3                    C++         4         3         3   7.444%\n",
       "4      Visual Basic .NET         5         6       200   7.095%\n",
       "5             JavaScript         6         8         5   2.848%\n",
       "6                     C#         7         5       100   2.846%\n",
       "7                    PHP         8         7         7   2.271%\n",
       "8                    SQL         9        11         8   1.900%\n",
       "9            Objective-C        10        20         9   1.447%\n",
       "10     Assembly language        11        15        10   1.377%\n",
       "11                MATLAB        12        19        11   1.196%\n",
       "12                  Perl        13        17        12   1.102%\n",
       "13  Delphi/Object Pascal        14         9        13   1.066%\n",
       "14                     R        15        13        14   1.043%\n",
       "15                  Ruby        16        10        15   1.037%\n",
       "16          Visual Basic        17        12        16   0.991%\n",
       "17                    Go        18        18        17   0.960%\n",
       "18                Groovy        19        49        18   0.936%\n",
       "19                 Swift        20        16        19   0.918%"
      ]
     },
     "execution_count": 96,
     "metadata": {},
     "output_type": "execute_result"
    }
   ],
   "source": [
    "df_new"
   ]
  },
  {
   "cell_type": "code",
   "execution_count": 93,
   "metadata": {},
   "outputs": [],
   "source": [
    "a = df_new[\"Feb 2020\"]"
   ]
  },
  {
   "cell_type": "code",
   "execution_count": 95,
   "metadata": {},
   "outputs": [
    {
     "name": "stderr",
     "output_type": "stream",
     "text": [
      "C:\\ProgramData\\Anaconda3\\lib\\site-packages\\ipykernel_launcher.py:1: SettingWithCopyWarning: \n",
      "A value is trying to be set on a copy of a slice from a DataFrame\n",
      "\n",
      "See the caveats in the documentation: http://pandas.pydata.org/pandas-docs/stable/indexing.html#indexing-view-versus-copy\n",
      "  \"\"\"Entry point for launching an IPython kernel.\n"
     ]
    }
   ],
   "source": [
    "a[4] = 200"
   ]
  },
  {
   "cell_type": "code",
   "execution_count": 97,
   "metadata": {},
   "outputs": [
    {
     "data": {
      "text/plain": [
       "array([[1, 1, nan, 'Java', '15.876%', '+0.89%'],\n",
       "       [2, 2, nan, 'C', '12.424%', '+0.57%'],\n",
       "       [3, 4, 'change', 'Python', '7.574%', '+2.41%'],\n",
       "       [4, 3, 'change', 'C++', '7.444%', '+1.72%'],\n",
       "       [5, 6, 'change', 'Visual Basic .NET', '7.095%', '+3.02%'],\n",
       "       [6, 8, 'change', 'JavaScript', '2.848%', '-0.32%'],\n",
       "       [7, 5, 'change', 'C#', '2.846%', '-1.61%'],\n",
       "       [8, 7, 'change', 'PHP', '2.271%', '-1.15%'],\n",
       "       [9, 11, 'change', 'SQL', '1.900%', '-0.46%'],\n",
       "       [10, 20, 'change', 'Objective-C', '1.447%', '+0.32%'],\n",
       "       [11, 15, 'change', 'Assembly language', '1.377%', '-0.46%'],\n",
       "       [12, 19, 'change', 'MATLAB', '1.196%', '-0.03%'],\n",
       "       [13, 17, 'change', 'Perl', '1.102%', '-0.66%'],\n",
       "       [14, 9, 'change', 'Delphi/Object Pascal', '1.066%', '-1.52%'],\n",
       "       [15, 13, 'change', 'R', '1.043%', '-1.04%'],\n",
       "       [16, 10, 'change', 'Ruby', '1.037%', '-1.50%'],\n",
       "       [17, 12, 'change', 'Visual Basic', '0.991%', '-1.19%'],\n",
       "       [18, 18, nan, 'Go', '0.960%', '-0.46%'],\n",
       "       [19, 49, 'change', 'Groovy', '0.936%', '+0.75%'],\n",
       "       [20, 16, 'change', 'Swift', '0.918%', '-0.88%']], dtype=object)"
      ]
     },
     "execution_count": 97,
     "metadata": {},
     "output_type": "execute_result"
    }
   ],
   "source": [
    "data.values"
   ]
  },
  {
   "cell_type": "code",
   "execution_count": 107,
   "metadata": {},
   "outputs": [],
   "source": [
    "a = data.iterrows()"
   ]
  },
  {
   "cell_type": "code",
   "execution_count": 127,
   "metadata": {},
   "outputs": [
    {
     "data": {
      "text/plain": [
       "(4, Feb 2019                                5\n",
       " Feb 2018                                6\n",
       " Change                             change\n",
       " Programming Language    Visual Basic .NET\n",
       " Ratings                            7.095%\n",
       " Change.1                           +3.02%\n",
       " Name: 4, dtype: object)"
      ]
     },
     "execution_count": 127,
     "metadata": {},
     "output_type": "execute_result"
    }
   ],
   "source": [
    "a.send(5)"
   ]
  },
  {
   "cell_type": "code",
   "execution_count": 134,
   "metadata": {},
   "outputs": [
    {
     "data": {
      "text/html": [
       "<div>\n",
       "<style scoped>\n",
       "    .dataframe tbody tr th:only-of-type {\n",
       "        vertical-align: middle;\n",
       "    }\n",
       "\n",
       "    .dataframe tbody tr th {\n",
       "        vertical-align: top;\n",
       "    }\n",
       "\n",
       "    .dataframe thead th {\n",
       "        text-align: right;\n",
       "    }\n",
       "</style>\n",
       "<table border=\"1\" class=\"dataframe\">\n",
       "  <thead>\n",
       "    <tr style=\"text-align: right;\">\n",
       "      <th></th>\n",
       "      <th>Feb</th>\n",
       "      <th>2019</th>\n",
       "      <th>Feb.1</th>\n",
       "      <th>2018</th>\n",
       "      <th>Change</th>\n",
       "      <th>Programming</th>\n",
       "      <th>Language</th>\n",
       "      <th>Ratings</th>\n",
       "      <th>Change.1</th>\n",
       "    </tr>\n",
       "  </thead>\n",
       "  <tbody>\n",
       "    <tr>\n",
       "      <th>0</th>\n",
       "      <td>1</td>\n",
       "      <td>1</td>\n",
       "      <td>Java</td>\n",
       "      <td>15.876%</td>\n",
       "      <td>+0.89%</td>\n",
       "      <td>None</td>\n",
       "      <td>None</td>\n",
       "      <td>None</td>\n",
       "      <td>NaN</td>\n",
       "    </tr>\n",
       "    <tr>\n",
       "      <th>1</th>\n",
       "      <td>2</td>\n",
       "      <td>2</td>\n",
       "      <td>C</td>\n",
       "      <td>12.424%</td>\n",
       "      <td>+0.57%</td>\n",
       "      <td>None</td>\n",
       "      <td>None</td>\n",
       "      <td>None</td>\n",
       "      <td>NaN</td>\n",
       "    </tr>\n",
       "    <tr>\n",
       "      <th>2</th>\n",
       "      <td>3</td>\n",
       "      <td>4</td>\n",
       "      <td>change</td>\n",
       "      <td>Python</td>\n",
       "      <td>7.574%</td>\n",
       "      <td>+2.41%</td>\n",
       "      <td>None</td>\n",
       "      <td>None</td>\n",
       "      <td>NaN</td>\n",
       "    </tr>\n",
       "    <tr>\n",
       "      <th>3</th>\n",
       "      <td>4</td>\n",
       "      <td>3</td>\n",
       "      <td>change</td>\n",
       "      <td>C++</td>\n",
       "      <td>7.444%</td>\n",
       "      <td>+1.72%</td>\n",
       "      <td>None</td>\n",
       "      <td>None</td>\n",
       "      <td>NaN</td>\n",
       "    </tr>\n",
       "    <tr>\n",
       "      <th>4</th>\n",
       "      <td>5</td>\n",
       "      <td>6</td>\n",
       "      <td>change</td>\n",
       "      <td>Visual</td>\n",
       "      <td>Basic</td>\n",
       "      <td>.NET</td>\n",
       "      <td>7.095%</td>\n",
       "      <td>+3.02%</td>\n",
       "      <td>NaN</td>\n",
       "    </tr>\n",
       "    <tr>\n",
       "      <th>5</th>\n",
       "      <td>6</td>\n",
       "      <td>8</td>\n",
       "      <td>change</td>\n",
       "      <td>JavaScript</td>\n",
       "      <td>2.848%</td>\n",
       "      <td>-0.32%</td>\n",
       "      <td>None</td>\n",
       "      <td>None</td>\n",
       "      <td>NaN</td>\n",
       "    </tr>\n",
       "    <tr>\n",
       "      <th>6</th>\n",
       "      <td>7</td>\n",
       "      <td>5</td>\n",
       "      <td>change</td>\n",
       "      <td>C#</td>\n",
       "      <td>2.846%</td>\n",
       "      <td>-1.61%</td>\n",
       "      <td>None</td>\n",
       "      <td>None</td>\n",
       "      <td>NaN</td>\n",
       "    </tr>\n",
       "    <tr>\n",
       "      <th>7</th>\n",
       "      <td>8</td>\n",
       "      <td>7</td>\n",
       "      <td>change</td>\n",
       "      <td>PHP</td>\n",
       "      <td>2.271%</td>\n",
       "      <td>-1.15%</td>\n",
       "      <td>None</td>\n",
       "      <td>None</td>\n",
       "      <td>NaN</td>\n",
       "    </tr>\n",
       "    <tr>\n",
       "      <th>8</th>\n",
       "      <td>9</td>\n",
       "      <td>11</td>\n",
       "      <td>change</td>\n",
       "      <td>SQL</td>\n",
       "      <td>1.900%</td>\n",
       "      <td>-0.46%</td>\n",
       "      <td>None</td>\n",
       "      <td>None</td>\n",
       "      <td>NaN</td>\n",
       "    </tr>\n",
       "    <tr>\n",
       "      <th>9</th>\n",
       "      <td>10</td>\n",
       "      <td>20</td>\n",
       "      <td>change</td>\n",
       "      <td>Objective-C</td>\n",
       "      <td>1.447%</td>\n",
       "      <td>+0.32%</td>\n",
       "      <td>None</td>\n",
       "      <td>None</td>\n",
       "      <td>NaN</td>\n",
       "    </tr>\n",
       "    <tr>\n",
       "      <th>10</th>\n",
       "      <td>11</td>\n",
       "      <td>15</td>\n",
       "      <td>change</td>\n",
       "      <td>Assembly</td>\n",
       "      <td>language</td>\n",
       "      <td>1.377%</td>\n",
       "      <td>-0.46%</td>\n",
       "      <td>None</td>\n",
       "      <td>NaN</td>\n",
       "    </tr>\n",
       "    <tr>\n",
       "      <th>11</th>\n",
       "      <td>12</td>\n",
       "      <td>19</td>\n",
       "      <td>change</td>\n",
       "      <td>MATLAB</td>\n",
       "      <td>1.196%</td>\n",
       "      <td>-0.03%</td>\n",
       "      <td>None</td>\n",
       "      <td>None</td>\n",
       "      <td>NaN</td>\n",
       "    </tr>\n",
       "    <tr>\n",
       "      <th>12</th>\n",
       "      <td>13</td>\n",
       "      <td>17</td>\n",
       "      <td>change</td>\n",
       "      <td>Perl</td>\n",
       "      <td>1.102%</td>\n",
       "      <td>-0.66%</td>\n",
       "      <td>None</td>\n",
       "      <td>None</td>\n",
       "      <td>NaN</td>\n",
       "    </tr>\n",
       "    <tr>\n",
       "      <th>13</th>\n",
       "      <td>14</td>\n",
       "      <td>9</td>\n",
       "      <td>change</td>\n",
       "      <td>Delphi/Object</td>\n",
       "      <td>Pascal</td>\n",
       "      <td>1.066%</td>\n",
       "      <td>-1.52%</td>\n",
       "      <td>None</td>\n",
       "      <td>NaN</td>\n",
       "    </tr>\n",
       "    <tr>\n",
       "      <th>14</th>\n",
       "      <td>15</td>\n",
       "      <td>13</td>\n",
       "      <td>change</td>\n",
       "      <td>R</td>\n",
       "      <td>1.043%</td>\n",
       "      <td>-1.04%</td>\n",
       "      <td>None</td>\n",
       "      <td>None</td>\n",
       "      <td>NaN</td>\n",
       "    </tr>\n",
       "    <tr>\n",
       "      <th>15</th>\n",
       "      <td>16</td>\n",
       "      <td>10</td>\n",
       "      <td>change</td>\n",
       "      <td>Ruby</td>\n",
       "      <td>1.037%</td>\n",
       "      <td>-1.50%</td>\n",
       "      <td>None</td>\n",
       "      <td>None</td>\n",
       "      <td>NaN</td>\n",
       "    </tr>\n",
       "    <tr>\n",
       "      <th>16</th>\n",
       "      <td>17</td>\n",
       "      <td>12</td>\n",
       "      <td>change</td>\n",
       "      <td>Visual</td>\n",
       "      <td>Basic</td>\n",
       "      <td>0.991%</td>\n",
       "      <td>-1.19%</td>\n",
       "      <td>None</td>\n",
       "      <td>NaN</td>\n",
       "    </tr>\n",
       "    <tr>\n",
       "      <th>17</th>\n",
       "      <td>18</td>\n",
       "      <td>18</td>\n",
       "      <td>Go</td>\n",
       "      <td>0.960%</td>\n",
       "      <td>-0.46%</td>\n",
       "      <td>None</td>\n",
       "      <td>None</td>\n",
       "      <td>None</td>\n",
       "      <td>NaN</td>\n",
       "    </tr>\n",
       "    <tr>\n",
       "      <th>18</th>\n",
       "      <td>19</td>\n",
       "      <td>49</td>\n",
       "      <td>change</td>\n",
       "      <td>Groovy</td>\n",
       "      <td>0.936%</td>\n",
       "      <td>+0.75%</td>\n",
       "      <td>None</td>\n",
       "      <td>None</td>\n",
       "      <td>NaN</td>\n",
       "    </tr>\n",
       "    <tr>\n",
       "      <th>19</th>\n",
       "      <td>20</td>\n",
       "      <td>16</td>\n",
       "      <td>change</td>\n",
       "      <td>Swift</td>\n",
       "      <td>0.918%</td>\n",
       "      <td>-0.88%</td>\n",
       "      <td>None</td>\n",
       "      <td>None</td>\n",
       "      <td>NaN</td>\n",
       "    </tr>\n",
       "  </tbody>\n",
       "</table>\n",
       "</div>"
      ],
      "text/plain": [
       "    Feb  2019   Feb.1           2018    Change Programming Language Ratings  \\\n",
       "0     1     1    Java        15.876%    +0.89%        None     None    None   \n",
       "1     2     2       C        12.424%    +0.57%        None     None    None   \n",
       "2     3     4  change         Python    7.574%      +2.41%     None    None   \n",
       "3     4     3  change            C++    7.444%      +1.72%     None    None   \n",
       "4     5     6  change         Visual     Basic        .NET   7.095%  +3.02%   \n",
       "5     6     8  change     JavaScript    2.848%      -0.32%     None    None   \n",
       "6     7     5  change             C#    2.846%      -1.61%     None    None   \n",
       "7     8     7  change            PHP    2.271%      -1.15%     None    None   \n",
       "8     9    11  change            SQL    1.900%      -0.46%     None    None   \n",
       "9    10    20  change    Objective-C    1.447%      +0.32%     None    None   \n",
       "10   11    15  change       Assembly  language      1.377%   -0.46%    None   \n",
       "11   12    19  change         MATLAB    1.196%      -0.03%     None    None   \n",
       "12   13    17  change           Perl    1.102%      -0.66%     None    None   \n",
       "13   14     9  change  Delphi/Object    Pascal      1.066%   -1.52%    None   \n",
       "14   15    13  change              R    1.043%      -1.04%     None    None   \n",
       "15   16    10  change           Ruby    1.037%      -1.50%     None    None   \n",
       "16   17    12  change         Visual     Basic      0.991%   -1.19%    None   \n",
       "17   18    18      Go         0.960%    -0.46%        None     None    None   \n",
       "18   19    49  change         Groovy    0.936%      +0.75%     None    None   \n",
       "19   20    16  change          Swift    0.918%      -0.88%     None    None   \n",
       "\n",
       "    Change.1  \n",
       "0        NaN  \n",
       "1        NaN  \n",
       "2        NaN  \n",
       "3        NaN  \n",
       "4        NaN  \n",
       "5        NaN  \n",
       "6        NaN  \n",
       "7        NaN  \n",
       "8        NaN  \n",
       "9        NaN  \n",
       "10       NaN  \n",
       "11       NaN  \n",
       "12       NaN  \n",
       "13       NaN  \n",
       "14       NaN  \n",
       "15       NaN  \n",
       "16       NaN  \n",
       "17       NaN  \n",
       "18       NaN  \n",
       "19       NaN  "
      ]
     },
     "execution_count": 134,
     "metadata": {},
     "output_type": "execute_result"
    }
   ],
   "source": [
    "pd.read_clipboard()"
   ]
  },
  {
   "cell_type": "code",
   "execution_count": 135,
   "metadata": {},
   "outputs": [],
   "source": [
    "s1 = Series([1,2,3,4],index = [\"A\",\"B\",\"C\",\"D\"])"
   ]
  },
  {
   "cell_type": "code",
   "execution_count": 136,
   "metadata": {},
   "outputs": [
    {
     "data": {
      "text/plain": [
       "A    1\n",
       "B    2\n",
       "C    3\n",
       "D    4\n",
       "dtype: int64"
      ]
     },
     "execution_count": 136,
     "metadata": {},
     "output_type": "execute_result"
    }
   ],
   "source": [
    "s1"
   ]
  },
  {
   "cell_type": "code",
   "execution_count": 137,
   "metadata": {},
   "outputs": [
    {
     "data": {
      "text/plain": [
       "0   NaN\n",
       "1   NaN\n",
       "2   NaN\n",
       "3   NaN\n",
       "dtype: float64"
      ]
     },
     "execution_count": 137,
     "metadata": {},
     "output_type": "execute_result"
    }
   ],
   "source": [
    "s1.reindex(np.arange(4))"
   ]
  },
  {
   "cell_type": "code",
   "execution_count": 142,
   "metadata": {},
   "outputs": [
    {
     "data": {
      "text/plain": [
       "A    1\n",
       "D    4\n",
       "B    2\n",
       "C    3\n",
       "dtype: int64"
      ]
     },
     "execution_count": 142,
     "metadata": {},
     "output_type": "execute_result"
    }
   ],
   "source": [
    "s1.reindex([\"A\",\"D\",\"B\",\"C\"])"
   ]
  },
  {
   "cell_type": "code",
   "execution_count": 144,
   "metadata": {},
   "outputs": [],
   "source": [
    "s = DataFrame(np.random.random((5,5)),index = [\"A\",\"B\",\"D\",\"E\",\"F\"], columns= [\"c1\",'c2','c3','c5','c6'])"
   ]
  },
  {
   "cell_type": "code",
   "execution_count": 150,
   "metadata": {},
   "outputs": [
    {
     "data": {
      "text/html": [
       "<div>\n",
       "<style scoped>\n",
       "    .dataframe tbody tr th:only-of-type {\n",
       "        vertical-align: middle;\n",
       "    }\n",
       "\n",
       "    .dataframe tbody tr th {\n",
       "        vertical-align: top;\n",
       "    }\n",
       "\n",
       "    .dataframe thead th {\n",
       "        text-align: right;\n",
       "    }\n",
       "</style>\n",
       "<table border=\"1\" class=\"dataframe\">\n",
       "  <thead>\n",
       "    <tr style=\"text-align: right;\">\n",
       "      <th></th>\n",
       "      <th>c1</th>\n",
       "      <th>c2</th>\n",
       "      <th>c3</th>\n",
       "      <th>c5</th>\n",
       "      <th>c6</th>\n",
       "    </tr>\n",
       "  </thead>\n",
       "  <tbody>\n",
       "    <tr>\n",
       "      <th>A</th>\n",
       "      <td>0.795676</td>\n",
       "      <td>0.686971</td>\n",
       "      <td>0.677441</td>\n",
       "      <td>0.673348</td>\n",
       "      <td>0.0713661</td>\n",
       "    </tr>\n",
       "    <tr>\n",
       "      <th>B</th>\n",
       "      <td>0.933118</td>\n",
       "      <td>0.722547</td>\n",
       "      <td>0.63065</td>\n",
       "      <td>0.978142</td>\n",
       "      <td>0.853915</td>\n",
       "    </tr>\n",
       "    <tr>\n",
       "      <th>C</th>\n",
       "      <td>[2, 3, 4, 5, 6]</td>\n",
       "      <td>[2, 3, 4, 5, 6]</td>\n",
       "      <td>[2, 3, 4, 5, 6]</td>\n",
       "      <td>[2, 3, 4, 5, 6]</td>\n",
       "      <td>[2, 3, 4, 5, 6]</td>\n",
       "    </tr>\n",
       "    <tr>\n",
       "      <th>D</th>\n",
       "      <td>0.266681</td>\n",
       "      <td>0.053617</td>\n",
       "      <td>0.242216</td>\n",
       "      <td>0.210198</td>\n",
       "      <td>0.43178</td>\n",
       "    </tr>\n",
       "    <tr>\n",
       "      <th>E</th>\n",
       "      <td>0.509397</td>\n",
       "      <td>0.165521</td>\n",
       "      <td>0.3256</td>\n",
       "      <td>0.51972</td>\n",
       "      <td>0.792667</td>\n",
       "    </tr>\n",
       "    <tr>\n",
       "      <th>F</th>\n",
       "      <td>0.716981</td>\n",
       "      <td>0.710634</td>\n",
       "      <td>0.763624</td>\n",
       "      <td>0.0497432</td>\n",
       "      <td>0.675041</td>\n",
       "    </tr>\n",
       "  </tbody>\n",
       "</table>\n",
       "</div>"
      ],
      "text/plain": [
       "                c1               c2               c3               c5  \\\n",
       "A         0.795676         0.686971         0.677441         0.673348   \n",
       "B         0.933118         0.722547          0.63065         0.978142   \n",
       "C  [2, 3, 4, 5, 6]  [2, 3, 4, 5, 6]  [2, 3, 4, 5, 6]  [2, 3, 4, 5, 6]   \n",
       "D         0.266681         0.053617         0.242216         0.210198   \n",
       "E         0.509397         0.165521           0.3256          0.51972   \n",
       "F         0.716981         0.710634         0.763624        0.0497432   \n",
       "\n",
       "                c6  \n",
       "A        0.0713661  \n",
       "B         0.853915  \n",
       "C  [2, 3, 4, 5, 6]  \n",
       "D          0.43178  \n",
       "E         0.792667  \n",
       "F         0.675041  "
      ]
     },
     "execution_count": 150,
     "metadata": {},
     "output_type": "execute_result"
    }
   ],
   "source": [
    "s.reindex(index = [\"A\",\"B\",\"C\",\"D\",\"E\",\"F\"], fill_value=[2,3,4,5,6])"
   ]
  },
  {
   "cell_type": "code",
   "execution_count": 146,
   "metadata": {},
   "outputs": [
    {
     "data": {
      "text/html": [
       "<div>\n",
       "<style scoped>\n",
       "    .dataframe tbody tr th:only-of-type {\n",
       "        vertical-align: middle;\n",
       "    }\n",
       "\n",
       "    .dataframe tbody tr th {\n",
       "        vertical-align: top;\n",
       "    }\n",
       "\n",
       "    .dataframe thead th {\n",
       "        text-align: right;\n",
       "    }\n",
       "</style>\n",
       "<table border=\"1\" class=\"dataframe\">\n",
       "  <thead>\n",
       "    <tr style=\"text-align: right;\">\n",
       "      <th></th>\n",
       "      <th>c1</th>\n",
       "      <th>c2</th>\n",
       "      <th>c3</th>\n",
       "      <th>c5</th>\n",
       "      <th>c6</th>\n",
       "    </tr>\n",
       "  </thead>\n",
       "  <tbody>\n",
       "    <tr>\n",
       "      <th>A</th>\n",
       "      <td>0.795676</td>\n",
       "      <td>0.686971</td>\n",
       "      <td>0.677441</td>\n",
       "      <td>0.673348</td>\n",
       "      <td>0.071366</td>\n",
       "    </tr>\n",
       "    <tr>\n",
       "      <th>B</th>\n",
       "      <td>0.933118</td>\n",
       "      <td>0.722547</td>\n",
       "      <td>0.630650</td>\n",
       "      <td>0.978142</td>\n",
       "      <td>0.853915</td>\n",
       "    </tr>\n",
       "    <tr>\n",
       "      <th>D</th>\n",
       "      <td>0.266681</td>\n",
       "      <td>0.053617</td>\n",
       "      <td>0.242216</td>\n",
       "      <td>0.210198</td>\n",
       "      <td>0.431780</td>\n",
       "    </tr>\n",
       "    <tr>\n",
       "      <th>E</th>\n",
       "      <td>0.509397</td>\n",
       "      <td>0.165521</td>\n",
       "      <td>0.325600</td>\n",
       "      <td>0.519720</td>\n",
       "      <td>0.792667</td>\n",
       "    </tr>\n",
       "    <tr>\n",
       "      <th>F</th>\n",
       "      <td>0.716981</td>\n",
       "      <td>0.710634</td>\n",
       "      <td>0.763624</td>\n",
       "      <td>0.049743</td>\n",
       "      <td>0.675041</td>\n",
       "    </tr>\n",
       "  </tbody>\n",
       "</table>\n",
       "</div>"
      ],
      "text/plain": [
       "         c1        c2        c3        c5        c6\n",
       "A  0.795676  0.686971  0.677441  0.673348  0.071366\n",
       "B  0.933118  0.722547  0.630650  0.978142  0.853915\n",
       "D  0.266681  0.053617  0.242216  0.210198  0.431780\n",
       "E  0.509397  0.165521  0.325600  0.519720  0.792667\n",
       "F  0.716981  0.710634  0.763624  0.049743  0.675041"
      ]
     },
     "execution_count": 146,
     "metadata": {},
     "output_type": "execute_result"
    }
   ],
   "source": [
    "s"
   ]
  },
  {
   "cell_type": "code",
   "execution_count": 151,
   "metadata": {},
   "outputs": [
    {
     "data": {
      "text/plain": [
       "nan"
      ]
     },
     "execution_count": 151,
     "metadata": {},
     "output_type": "execute_result"
    }
   ],
   "source": [
    "np.nan"
   ]
  },
  {
   "cell_type": "code",
   "execution_count": 159,
   "metadata": {},
   "outputs": [
    {
     "name": "stdout",
     "output_type": "stream",
     "text": [
      "False\n",
      "True\n"
     ]
    }
   ],
   "source": [
    "print(np.nan == np.nan)\n",
    "print(np.nan is np.nan)"
   ]
  },
  {
   "cell_type": "code",
   "execution_count": 164,
   "metadata": {},
   "outputs": [
    {
     "data": {
      "text/plain": [
       "[1, 4, 9]"
      ]
     },
     "execution_count": 164,
     "metadata": {},
     "output_type": "execute_result"
    }
   ],
   "source": [
    "a = [1,2,3]\n",
    "list(map(lambda x : x**2, a))"
   ]
  },
  {
   "cell_type": "code",
   "execution_count": null,
   "metadata": {},
   "outputs": [],
   "source": []
  }
 ],
 "metadata": {
  "kernelspec": {
   "display_name": "Python 3",
   "language": "python",
   "name": "python3"
  },
  "language_info": {
   "codemirror_mode": {
    "name": "ipython",
    "version": 3
   },
   "file_extension": ".py",
   "mimetype": "text/x-python",
   "name": "python",
   "nbconvert_exporter": "python",
   "pygments_lexer": "ipython3",
   "version": "3.7.1"
  }
 },
 "nbformat": 4,
 "nbformat_minor": 2
}
